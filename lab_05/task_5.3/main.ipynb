{
 "cells": [
  {
   "cell_type": "code",
   "execution_count": 10,
   "metadata": {
    "_cell_guid": "b1076dfc-b9ad-4769-8c92-a6c4dae69d19",
    "_uuid": "8f2839f25d086af736a60e9eeb907d3b93b6e0e5",
    "execution": {
     "iopub.execute_input": "2025-05-05T21:38:11.664453Z",
     "iopub.status.busy": "2025-05-05T21:38:11.663950Z",
     "iopub.status.idle": "2025-05-05T21:38:11.670173Z",
     "shell.execute_reply": "2025-05-05T21:38:11.669049Z",
     "shell.execute_reply.started": "2025-05-05T21:38:11.664421Z"
    },
    "trusted": true
   },
   "outputs": [],
   "source": [
    "from xgboost import XGBClassifier\n",
    "import pandas as pd\n",
    "import numpy as np\n",
    "from sklearn.model_selection import train_test_split\n",
    "from sklearn.metrics import f1_score\n",
    "import time"
   ]
  },
  {
   "cell_type": "markdown",
   "metadata": {},
   "source": [
    "Загрузим датасет из лабораторной 5.2:"
   ]
  },
  {
   "cell_type": "code",
   "execution_count": 11,
   "metadata": {
    "execution": {
     "iopub.execute_input": "2025-05-05T20:39:32.239186Z",
     "iopub.status.busy": "2025-05-05T20:39:32.238764Z",
     "iopub.status.idle": "2025-05-05T20:39:32.313613Z",
     "shell.execute_reply": "2025-05-05T20:39:32.311911Z",
     "shell.execute_reply.started": "2025-05-05T20:39:32.239159Z"
    },
    "trusted": true
   },
   "outputs": [
    {
     "data": {
      "text/html": [
       "<div>\n",
       "<style scoped>\n",
       "    .dataframe tbody tr th:only-of-type {\n",
       "        vertical-align: middle;\n",
       "    }\n",
       "\n",
       "    .dataframe tbody tr th {\n",
       "        vertical-align: top;\n",
       "    }\n",
       "\n",
       "    .dataframe thead th {\n",
       "        text-align: right;\n",
       "    }\n",
       "</style>\n",
       "<table border=\"1\" class=\"dataframe\">\n",
       "  <thead>\n",
       "    <tr style=\"text-align: right;\">\n",
       "      <th></th>\n",
       "      <th>Pregnancies</th>\n",
       "      <th>Glucose</th>\n",
       "      <th>BloodPressure</th>\n",
       "      <th>SkinThickness</th>\n",
       "      <th>Insulin</th>\n",
       "      <th>BMI</th>\n",
       "      <th>DiabetesPedigreeFunction</th>\n",
       "      <th>Age</th>\n",
       "      <th>Outcome</th>\n",
       "    </tr>\n",
       "  </thead>\n",
       "  <tbody>\n",
       "    <tr>\n",
       "      <th>0</th>\n",
       "      <td>6</td>\n",
       "      <td>148</td>\n",
       "      <td>72</td>\n",
       "      <td>35</td>\n",
       "      <td>0</td>\n",
       "      <td>33.6</td>\n",
       "      <td>0.627</td>\n",
       "      <td>50</td>\n",
       "      <td>1</td>\n",
       "    </tr>\n",
       "    <tr>\n",
       "      <th>1</th>\n",
       "      <td>1</td>\n",
       "      <td>85</td>\n",
       "      <td>66</td>\n",
       "      <td>29</td>\n",
       "      <td>0</td>\n",
       "      <td>26.6</td>\n",
       "      <td>0.351</td>\n",
       "      <td>31</td>\n",
       "      <td>0</td>\n",
       "    </tr>\n",
       "    <tr>\n",
       "      <th>2</th>\n",
       "      <td>8</td>\n",
       "      <td>183</td>\n",
       "      <td>64</td>\n",
       "      <td>0</td>\n",
       "      <td>0</td>\n",
       "      <td>23.3</td>\n",
       "      <td>0.672</td>\n",
       "      <td>32</td>\n",
       "      <td>1</td>\n",
       "    </tr>\n",
       "    <tr>\n",
       "      <th>3</th>\n",
       "      <td>1</td>\n",
       "      <td>89</td>\n",
       "      <td>66</td>\n",
       "      <td>23</td>\n",
       "      <td>94</td>\n",
       "      <td>28.1</td>\n",
       "      <td>0.167</td>\n",
       "      <td>21</td>\n",
       "      <td>0</td>\n",
       "    </tr>\n",
       "    <tr>\n",
       "      <th>4</th>\n",
       "      <td>0</td>\n",
       "      <td>137</td>\n",
       "      <td>40</td>\n",
       "      <td>35</td>\n",
       "      <td>168</td>\n",
       "      <td>43.1</td>\n",
       "      <td>2.288</td>\n",
       "      <td>33</td>\n",
       "      <td>1</td>\n",
       "    </tr>\n",
       "    <tr>\n",
       "      <th>...</th>\n",
       "      <td>...</td>\n",
       "      <td>...</td>\n",
       "      <td>...</td>\n",
       "      <td>...</td>\n",
       "      <td>...</td>\n",
       "      <td>...</td>\n",
       "      <td>...</td>\n",
       "      <td>...</td>\n",
       "      <td>...</td>\n",
       "    </tr>\n",
       "    <tr>\n",
       "      <th>763</th>\n",
       "      <td>10</td>\n",
       "      <td>101</td>\n",
       "      <td>76</td>\n",
       "      <td>48</td>\n",
       "      <td>180</td>\n",
       "      <td>32.9</td>\n",
       "      <td>0.171</td>\n",
       "      <td>63</td>\n",
       "      <td>0</td>\n",
       "    </tr>\n",
       "    <tr>\n",
       "      <th>764</th>\n",
       "      <td>2</td>\n",
       "      <td>122</td>\n",
       "      <td>70</td>\n",
       "      <td>27</td>\n",
       "      <td>0</td>\n",
       "      <td>36.8</td>\n",
       "      <td>0.340</td>\n",
       "      <td>27</td>\n",
       "      <td>0</td>\n",
       "    </tr>\n",
       "    <tr>\n",
       "      <th>765</th>\n",
       "      <td>5</td>\n",
       "      <td>121</td>\n",
       "      <td>72</td>\n",
       "      <td>23</td>\n",
       "      <td>112</td>\n",
       "      <td>26.2</td>\n",
       "      <td>0.245</td>\n",
       "      <td>30</td>\n",
       "      <td>0</td>\n",
       "    </tr>\n",
       "    <tr>\n",
       "      <th>766</th>\n",
       "      <td>1</td>\n",
       "      <td>126</td>\n",
       "      <td>60</td>\n",
       "      <td>0</td>\n",
       "      <td>0</td>\n",
       "      <td>30.1</td>\n",
       "      <td>0.349</td>\n",
       "      <td>47</td>\n",
       "      <td>1</td>\n",
       "    </tr>\n",
       "    <tr>\n",
       "      <th>767</th>\n",
       "      <td>1</td>\n",
       "      <td>93</td>\n",
       "      <td>70</td>\n",
       "      <td>31</td>\n",
       "      <td>0</td>\n",
       "      <td>30.4</td>\n",
       "      <td>0.315</td>\n",
       "      <td>23</td>\n",
       "      <td>0</td>\n",
       "    </tr>\n",
       "  </tbody>\n",
       "</table>\n",
       "<p>768 rows × 9 columns</p>\n",
       "</div>"
      ],
      "text/plain": [
       "     Pregnancies  Glucose  BloodPressure  SkinThickness  Insulin   BMI  \\\n",
       "0              6      148             72             35        0  33.6   \n",
       "1              1       85             66             29        0  26.6   \n",
       "2              8      183             64              0        0  23.3   \n",
       "3              1       89             66             23       94  28.1   \n",
       "4              0      137             40             35      168  43.1   \n",
       "..           ...      ...            ...            ...      ...   ...   \n",
       "763           10      101             76             48      180  32.9   \n",
       "764            2      122             70             27        0  36.8   \n",
       "765            5      121             72             23      112  26.2   \n",
       "766            1      126             60              0        0  30.1   \n",
       "767            1       93             70             31        0  30.4   \n",
       "\n",
       "     DiabetesPedigreeFunction  Age  Outcome  \n",
       "0                       0.627   50        1  \n",
       "1                       0.351   31        0  \n",
       "2                       0.672   32        1  \n",
       "3                       0.167   21        0  \n",
       "4                       2.288   33        1  \n",
       "..                        ...  ...      ...  \n",
       "763                     0.171   63        0  \n",
       "764                     0.340   27        0  \n",
       "765                     0.245   30        0  \n",
       "766                     0.349   47        1  \n",
       "767                     0.315   23        0  \n",
       "\n",
       "[768 rows x 9 columns]"
      ]
     },
     "execution_count": 11,
     "metadata": {},
     "output_type": "execute_result"
    }
   ],
   "source": [
    "data = pd.read_csv('diabetes.csv')\n",
    "data"
   ]
  },
  {
   "cell_type": "code",
   "execution_count": 12,
   "metadata": {
    "execution": {
     "iopub.execute_input": "2025-05-05T20:40:00.647618Z",
     "iopub.status.busy": "2025-05-05T20:40:00.647274Z",
     "iopub.status.idle": "2025-05-05T20:40:00.663154Z",
     "shell.execute_reply": "2025-05-05T20:40:00.661495Z",
     "shell.execute_reply.started": "2025-05-05T20:40:00.647594Z"
    },
    "trusted": true
   },
   "outputs": [],
   "source": [
    "X = data.drop([\"Outcome\"], axis=1)\n",
    "y = data[\"Outcome\"]\n",
    "X_train, X_test, y_train, y_test = train_test_split(X, y, test_size=0.3, stratify=y, random_state=0)"
   ]
  },
  {
   "cell_type": "code",
   "execution_count": 13,
   "metadata": {
    "execution": {
     "iopub.execute_input": "2025-05-05T21:38:21.278093Z",
     "iopub.status.busy": "2025-05-05T21:38:21.277661Z",
     "iopub.status.idle": "2025-05-05T21:38:21.346807Z",
     "shell.execute_reply": "2025-05-05T21:38:21.345369Z",
     "shell.execute_reply.started": "2025-05-05T21:38:21.278063Z"
    },
    "trusted": true
   },
   "outputs": [
    {
     "name": "stdout",
     "output_type": "stream",
     "text": [
      "F1: 0.6790123456790124\n",
      "Время обучения: 0.12995600700378418\n"
     ]
    }
   ],
   "source": [
    "bst = XGBClassifier(\n",
    "    learning_rate=0.05,\n",
    "    n_estimators=200,\n",
    "    max_depth=5,\n",
    "    subsample=0.8,\n",
    "    random_state=121\n",
    ")\n",
    "start_time = time.time()\n",
    "bst.fit(X_train, y_train)\n",
    "time_for_fit = time.time() - start_time\n",
    "preds = bst.predict(X_test)\n",
    "\n",
    "print(\"F1:\", f1_score(y_test, preds))\n",
    "print(\"Время обучения:\", time_for_fit)"
   ]
  },
  {
   "cell_type": "markdown",
   "metadata": {},
   "source": [
    "Подберем гиперпараметры XGBoost с помощью Scikit-Learn Random Search:"
   ]
  },
  {
   "cell_type": "code",
   "execution_count": 14,
   "metadata": {
    "execution": {
     "iopub.execute_input": "2025-05-05T21:38:36.253308Z",
     "iopub.status.busy": "2025-05-05T21:38:36.252922Z",
     "iopub.status.idle": "2025-05-05T21:38:36.258058Z",
     "shell.execute_reply": "2025-05-05T21:38:36.257061Z",
     "shell.execute_reply.started": "2025-05-05T21:38:36.253283Z"
    },
    "trusted": true
   },
   "outputs": [],
   "source": [
    "from sklearn.model_selection import RandomizedSearchCV\n",
    "import warnings\n",
    "import time\n",
    "warnings.filterwarnings('ignore')"
   ]
  },
  {
   "cell_type": "code",
   "execution_count": 15,
   "metadata": {
    "execution": {
     "iopub.execute_input": "2025-05-05T21:38:36.439961Z",
     "iopub.status.busy": "2025-05-05T21:38:36.439613Z",
     "iopub.status.idle": "2025-05-05T21:38:38.973732Z",
     "shell.execute_reply": "2025-05-05T21:38:38.972270Z",
     "shell.execute_reply.started": "2025-05-05T21:38:36.439935Z"
    },
    "trusted": true
   },
   "outputs": [
    {
     "name": "stdout",
     "output_type": "stream",
     "text": [
      "Подобранные гиперпараметры: {'subsample': 0.30000000000000004, 'reg_lambda': 80, 'reg_alpha': 0, 'num_estimators': 190, 'max_depth': 18}\n",
      "Полученный F1: 0.6498644211677772\n",
      "Затраченное время: 1.2856237888336182\n"
     ]
    }
   ],
   "source": [
    "bst = XGBClassifier(random_state=121)\n",
    "distributions = dict(max_depth=range(1, 21), num_estimators=range(10, 210, 10),\n",
    "                     subsample=np.arange(0, 1, 0.1), reg_lambda=range(0, 100, 10), reg_alpha=range(0, 100, 10))\n",
    "clf = RandomizedSearchCV(bst, distributions, random_state=0, scoring='f1')\n",
    "start_time = time.time()\n",
    "search = clf.fit(X, y)\n",
    "search_time = time.time() - start_time\n",
    "print(\"Подобранные гиперпараметры:\", search.best_params_)\n",
    "print(\"Полученный F1:\", search.best_score_)\n",
    "print(\"Затраченное время:\", search_time)"
   ]
  },
  {
   "cell_type": "markdown",
   "metadata": {},
   "source": [
    "Теперь подберем гиперпараметры с помощью TPE и hyperopt:"
   ]
  },
  {
   "cell_type": "code",
   "execution_count": 16,
   "metadata": {
    "execution": {
     "iopub.execute_input": "2025-05-05T21:38:42.339696Z",
     "iopub.status.busy": "2025-05-05T21:38:42.339265Z",
     "iopub.status.idle": "2025-05-05T21:38:42.345345Z",
     "shell.execute_reply": "2025-05-05T21:38:42.344131Z",
     "shell.execute_reply.started": "2025-05-05T21:38:42.339675Z"
    },
    "trusted": true
   },
   "outputs": [],
   "source": [
    "from hyperopt import hp, fmin, tpe, Trials, STATUS_OK"
   ]
  },
  {
   "cell_type": "code",
   "execution_count": 17,
   "metadata": {
    "execution": {
     "iopub.execute_input": "2025-05-05T21:44:09.321875Z",
     "iopub.status.busy": "2025-05-05T21:44:09.321507Z",
     "iopub.status.idle": "2025-05-05T21:44:09.329389Z",
     "shell.execute_reply": "2025-05-05T21:44:09.328087Z",
     "shell.execute_reply.started": "2025-05-05T21:44:09.321851Z"
    },
    "trusted": true
   },
   "outputs": [],
   "source": [
    "def objective(params):\n",
    "    model = XGBClassifier(**params)\n",
    "    model.fit(X_train, y_train)\n",
    "    pred = model.predict(X_test)\n",
    "    return {'loss': -f1_score(y_test, pred), 'status': STATUS_OK}\n",
    "\n",
    "space = {'max_depth': hp.choice('max_depth', range(1, 21)),\n",
    "    'n_estimators': hp.choice('n_estimators', range(10, 210, 10)), 'subsample': hp.uniform('subsample', 0, 1),\n",
    "    'reg_lamda':  hp.choice('reg_lambda', range(0, 100, 10)), \"reg_alpha\": hp.choice('reg_alpha', range(0, 100, 10))}"
   ]
  },
  {
   "cell_type": "code",
   "execution_count": 18,
   "metadata": {
    "execution": {
     "iopub.execute_input": "2025-05-05T21:46:53.551642Z",
     "iopub.status.busy": "2025-05-05T21:46:53.551272Z",
     "iopub.status.idle": "2025-05-05T21:46:55.597285Z",
     "shell.execute_reply": "2025-05-05T21:46:55.596497Z",
     "shell.execute_reply.started": "2025-05-05T21:46:53.551608Z"
    },
    "trusted": true
   },
   "outputs": [
    {
     "name": "stdout",
     "output_type": "stream",
     "text": [
      "100%|██████████| 40/40 [00:01<00:00, 35.30trial/s, best loss: -0.6794871794871795]\n",
      "Подобранные гиперпараметры: {'max_depth': 13, 'n_estimators': 170, 'subsample': 0.8580790031955833, 'reg_lambda': 20, 'reg_alpha': 10}\n",
      "Полученные F1: 0.6794871794871795\n",
      "Затраченное время: 1.1408743858337402\n"
     ]
    }
   ],
   "source": [
    "trials = Trials()\n",
    "start_time = time.time()\n",
    "best = fmin(\n",
    "    fn=objective, space=space, algo=tpe.suggest, max_evals=40,\n",
    "    trials=trials, show_progressbar=True)\n",
    "search_time = time.time() - start_time\n",
    "best_params = {'max_depth': list(range(1, 21))[best['max_depth']],\n",
    "    'n_estimators': list(range(10, 210, 10))[best['n_estimators']], 'subsample': best['subsample'],\n",
    "    'reg_lambda': list(range(0, 100, 10))[best['reg_lambda']], 'reg_alpha': list(range(0, 100, 10))[best['reg_alpha']]}\n",
    "print(\"Подобранные гиперпараметры:\", best_params)\n",
    "print(\"Полученные F1:\", -trials.best_trial['result']['loss'])\n",
    "print(\"Затраченное время:\", search_time)"
   ]
  },
  {
   "cell_type": "markdown",
   "metadata": {},
   "source": [
    "Т.о. подбор с помощью Random Search оказался вообще не эффективным (что по времени, что по качеству). При случайном поиске получаем, что reg_alpha стремится быть очень маленьким (0), reg_lambda 80, количество деревьев большое, глубина деревьев тоже большая - 190. А вот при поиске с помощью TPE уже имеется толк - имеем наивысшее качество (сравнивая с нашей моделью и случайным подбором), но скорость ниже, чем при ручном подборе. По параметрам получаем глубину меньше случайной, число деревьев отличается не сильно, reg_lambda - 20, а reg_alpha - 10."
   ]
  }
 ],
 "metadata": {
  "kaggle": {
   "accelerator": "none",
   "dataSources": [
    {
     "datasetId": 4511,
     "sourceId": 6897,
     "sourceType": "datasetVersion"
    }
   ],
   "dockerImageVersionId": 31012,
   "isGpuEnabled": false,
   "isInternetEnabled": true,
   "language": "python",
   "sourceType": "notebook"
  },
  "kernelspec": {
   "display_name": "base",
   "language": "python",
   "name": "python3"
  },
  "language_info": {
   "codemirror_mode": {
    "name": "ipython",
    "version": 3
   },
   "file_extension": ".py",
   "mimetype": "text/x-python",
   "name": "python",
   "nbconvert_exporter": "python",
   "pygments_lexer": "ipython3",
   "version": "3.12.4"
  }
 },
 "nbformat": 4,
 "nbformat_minor": 4
}
